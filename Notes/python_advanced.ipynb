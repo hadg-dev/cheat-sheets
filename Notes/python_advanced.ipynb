{
 "cells": [
  {
   "cell_type": "markdown",
   "metadata": {},
   "source": [
    "# Python: intermediate and advanced concepts"
   ]
  },
  {
   "cell_type": "markdown",
   "metadata": {},
   "source": [
    "## Statically typing\n",
    "\n",
    "### Static Typing in Python:\n",
    "\n",
    "- Python is dynamically typed by default, meaning the type of a variable is determined at runtime.\n",
    "- Static typing in Python involves adding type hints to your code using the typing module.\n",
    "- Type hints provide information about the expected types of variables, function parameters, and return values.\n",
    "- They are optional and do not affect runtime behavior."
   ]
  },
  {
   "cell_type": "code",
   "execution_count": 1,
   "metadata": {},
   "outputs": [],
   "source": [
    "from typing import List, Dict, Tuple\n",
    "\n",
    "def greet(name: str) -> str:\n",
    "  \"\"\"\n",
    "  Greets the person with the given name.\n",
    "\n",
    "  Args:\n",
    "    name: The name of the person to greet.\n",
    "\n",
    "  Returns:\n",
    "    A greeting message.\n",
    "  \"\"\"\n",
    "  return f\"Hello, {name}!\"\n",
    "\n",
    "def add_numbers(a: int, b: int) -> int:\n",
    "  \"\"\"\n",
    "  Adds two integers.\n",
    "\n",
    "  Args:\n",
    "    a: The first integer.\n",
    "    b: The second integer.\n",
    "\n",
    "  Returns:\n",
    "    The sum of a and b.\n",
    "  \"\"\"\n",
    "  return a + b\n",
    "\n",
    "def process_data(data: List[Dict[str, int]]) -> List[Tuple[str, int]]:\n",
    "  \"\"\"\n",
    "  Processes a list of dictionaries.\n",
    "\n",
    "  Args:\n",
    "    data: A list of dictionaries, where each dictionary has a 'name' (str) \n",
    "          and a 'value' (int).\n",
    "\n",
    "  Returns:\n",
    "    A list of tuples, where each tuple contains the 'name' and the \n",
    "    'value' from each dictionary.\n",
    "  \"\"\"\n",
    "  result = []\n",
    "  for item in data:\n",
    "    name = item['name']\n",
    "    value = item['value']\n",
    "    result.append((name, value))\n",
    "  return result"
   ]
  },
  {
   "cell_type": "code",
   "execution_count": 3,
   "metadata": {},
   "outputs": [
    {
     "name": "stdout",
     "output_type": "stream",
     "text": [
      "[('A', 1), ('B', 2), ('C', 3)]\n"
     ]
    }
   ],
   "source": [
    "sample_data = [\n",
    "    {'name': 'A', 'value': 1},\n",
    "    {'name': 'B', 'value': 2},\n",
    "    {'name': 'C', 'value': 3}\n",
    "]\n",
    "processed_data = process_data(sample_data)\n",
    "print(processed_data)"
   ]
  },
  {
   "cell_type": "code",
   "execution_count": 4,
   "metadata": {},
   "outputs": [
    {
     "name": "stdout",
     "output_type": "stream",
     "text": [
      "[1, 4, 9, 16]\n",
      "['HELLO', 'WORLD']\n",
      "[1, 2, 3, 4]\n"
     ]
    }
   ],
   "source": [
    "from typing import Optional, Callable, Any\n",
    "\n",
    "def process_data(data: list, callback: Optional[Callable[[Any], Any]] = None) -> list:\n",
    "  \"\"\"\n",
    "  Processes a list of data and optionally applies a callback function to each element.\n",
    "\n",
    "  Args:\n",
    "    data: The list of data to process.\n",
    "    callback: An optional callable function that takes a single argument \n",
    "              and returns a value. If None, no callback is applied.\n",
    "\n",
    "  Returns:\n",
    "    A list of processed data.\n",
    "  \"\"\"\n",
    "  if callback is None:\n",
    "    return data\n",
    "\n",
    "  result = []\n",
    "  for item in data:\n",
    "    result.append(callback(item))\n",
    "  return result\n",
    "\n",
    "# Example usage:\n",
    "\n",
    "def square(x):\n",
    "  return x * x\n",
    "\n",
    "def to_upper(s):\n",
    "  return s.upper()\n",
    "\n",
    "data = [1, 2, 3, 4]\n",
    "\n",
    "# Apply the square function to each element\n",
    "squared_data = process_data(data, square) \n",
    "print(squared_data)  # Output: [1, 4, 9, 16]\n",
    "\n",
    "# Apply the to_upper function to a list of strings\n",
    "strings = [\"hello\", \"world\"]\n",
    "upper_strings = process_data(strings, to_upper) \n",
    "print(upper_strings)  # Output: ['HELLO', 'WORLD']\n",
    "\n",
    "# Process data without a callback (returns the original data)\n",
    "original_data = process_data(data)\n",
    "print(original_data)  # Output: [1, 2, 3, 4]"
   ]
  },
  {
   "cell_type": "markdown",
   "metadata": {},
   "source": [
    "Optional[Callable[[Any], Any]]:\n",
    "\n",
    "- Callable[[Any], Any] indicates that callback should be a callable object (function, method, etc.).\n",
    "- [Any] means the callable can accept any type of argument.\n",
    "- [Any] also means the callable can return any type of value.\n",
    "- Optional[T] means that the argument callback can be of type T or None. In this case, callback can either be a callable function or None.  \n",
    "  \n",
    "Function Behavior:\n",
    "\n",
    "- If callback is None, the function simply returns the original data list without any modifications.\n",
    "- If callback is provided, the function applies the callback function to each element in the data list and returns a new list with the results."
   ]
  },
  {
   "cell_type": "code",
   "execution_count": null,
   "metadata": {},
   "outputs": [],
   "source": [
    "from typing import (\n",
    "    List, Dict, Tuple, Set, \n",
    "    Union, Optional, Any, \n",
    "    Callable, TypeVar, \n",
    "    Generic, Protocol, \n",
    "    Literal, NamedTuple, \n",
    "    NewType, \n",
    "    overload\n",
    ")\n",
    "\n",
    "# Basic Types\n",
    "# ------------------\n",
    "# int, float, str, bool \n",
    "\n",
    "# Collections\n",
    "# ------------------\n",
    "# List[T]: List of elements of type T \n",
    "# Dict[K, V]: Dictionary with keys of type K and values of type V\n",
    "# Tuple[T1, T2, ...]: Tuple with specific types for each element\n",
    "# Set[T]: Set of elements of type T\n",
    "\n",
    "# Optional: Indicates that a value can be of a specific type or None\n",
    "# Example:\n",
    "def greet(name: Optional[str]) -> str:\n",
    "    if name is None:\n",
    "        return \"Hello, world!\"\n",
    "    return f\"Hello, {name}!\"\n",
    "\n",
    "# Any: Represents any type (use with caution)\n",
    "# Example:\n",
    "def process_data(data: Any) -> Any:\n",
    "    # Do something with data, but type information is lost\n",
    "    return data\n",
    "\n",
    "# Callable: Represents a callable object (function, method)\n",
    "# Example:\n",
    "def apply_function(func: Callable[[int], int], x: int) -> int:\n",
    "    return func(x)\n",
    "\n",
    "# TypeVar: Represents a type variable that can be used to define generic types\n",
    "# Example:\n",
    "T = TypeVar('T') \n",
    "def identity(x: T) -> T:\n",
    "    return x\n",
    "\n",
    "# Generic: Creates generic classes and functions\n",
    "class Stack(Generic[T]):\n",
    "    def __init__(self):\n",
    "        self._items: List[T] = []\n",
    "\n",
    "    def push(self, item: T) -> None:\n",
    "        self._items.append(item)\n",
    "\n",
    "    def pop(self) -> T:\n",
    "        return self._items.pop()\n",
    "\n",
    "# Protocol: Defines a protocol (interface) that types must adhere to\n",
    "# Example:\n",
    "class Hashable(Protocol):\n",
    "    def __hash__(self) -> int: ...\n",
    "\n",
    "# Literal: Represents a specific literal value\n",
    "# Example:\n",
    "def process_status(status: Literal[\"success\", \"error\", \"pending\"]) -> None:\n",
    "    # ...\n",
    "\n",
    "# NamedTuple: Creates named tuples for better readability\n",
    "# Example:\n",
    "Point = NamedTuple('Point', [('x', int), ('y', int)])\n",
    "\n",
    "# NewType: Creates a new, distinct type from an existing type\n",
    "# Example:\n",
    "UserId = NewType('UserId', int)\n",
    "\n",
    "# Union: Represents a value that can be of multiple types\n",
    "# Example:\n",
    "def process_input(value: Union[int, float]) -> None:\n",
    "    # ...\n",
    "\n",
    "# overload: Defines multiple function signatures for the same function name\n",
    "# Example:\n",
    "from typing import overload\n",
    "\n",
    "@overload\n",
    "def process_data(data: int) -> str:\n",
    "    ...\n",
    "\n",
    "@overload\n",
    "def process_data(data: str) -> int:\n",
    "    ...\n",
    "\n",
    "def process_data(data):\n",
    "    # Implementation\n",
    "    ...\n",
    "\n",
    "# This list provides a general overview of the `typing` library. \n",
    "# For a complete list and detailed explanations, refer to the official Python documentation:\n",
    "# https://docs.python.org/3/library/typing.html"
   ]
  },
  {
   "cell_type": "markdown",
   "metadata": {},
   "source": [
    "### *args and **kwargs\n",
    "\n",
    "- *args is used to pass a variable number of positional arguments to a function.  \n",
    "- Inside the function, *args is treated as a tuple containing all the positional arguments that were passed."
   ]
  },
  {
   "cell_type": "code",
   "execution_count": null,
   "metadata": {},
   "outputs": [],
   "source": [
    "def my_sum(*args):\n",
    "    total = 0\n",
    "    for num in args:\n",
    "        total += num\n",
    "    return total\n",
    "\n",
    "result = my_sum(1, 2, 3, 4)  # my_sum(1, 2, 3, 4) is equivalent to my_sum(*(1, 2, 3, 4))\n",
    "print(result)  # Output: 10"
   ]
  },
  {
   "cell_type": "markdown",
   "metadata": {},
   "source": [
    "- **kwargs used to pass a variable number of keyword arguments to a function.\n",
    "- Inside the function, **kwargs is treated as a dictionary where the keys are the argument names and the values are1 their corresponding values.   \n"
   ]
  },
  {
   "cell_type": "code",
   "execution_count": null,
   "metadata": {},
   "outputs": [],
   "source": [
    "def greet(**kwargs):\n",
    "    for key, value in kwargs.items():\n",
    "        print(f\"{key}: {value}\")\n",
    "\n",
    "greet(name=\"Alice\", age=30, city=\"New York\")"
   ]
  },
  {
   "cell_type": "code",
   "execution_count": null,
   "metadata": {},
   "outputs": [],
   "source": [
    "def timer(func: Callable[[Any], Any]) -> Callable[[Any], Any]:\n",
    "    import time\n",
    "\n",
    "    def wrapper(*args, **kwargs):  # Note the use of *args and **kwargs\n",
    "        start_time = time.time()\n",
    "        result = func(*args, **kwargs)  # Passing arguments to the original function\n",
    "        end_time = time.time()\n",
    "        print(f\"Execution time: {end_time - start_time:.4f} seconds\")\n",
    "        return result\n",
    "\n",
    "    return wrapper"
   ]
  },
  {
   "cell_type": "markdown",
   "metadata": {},
   "source": [
    "- wrapper(*args, **kwargs): The wrapper function accepts any number of positional arguments (*args) and any number of keyword arguments (**kwargs).\n",
    "- result = func(*args, **kwargs): The wrapper function calls the original function (func) by passing all the received arguments (both positional and keyword) to it.\n",
    "- This allows the timer decorator to work with functions that have any number or type of arguments, making it more versatile and reusable."
   ]
  },
  {
   "cell_type": "code",
   "execution_count": null,
   "metadata": {},
   "outputs": [],
   "source": [
    "from typing import Tuple\n",
    "\n",
    "def my_function(*args: Tuple[int, ...]) -> int: \n",
    "    \"\"\"\n",
    "    This function expects a variable number of integer arguments.\n",
    "    \"\"\"\n",
    "    total = 0\n",
    "    for num in args:\n",
    "        total += num\n",
    "    return total"
   ]
  },
  {
   "cell_type": "code",
   "execution_count": 5,
   "metadata": {},
   "outputs": [],
   "source": [
    "from typing import Dict, Any\n",
    "\n",
    "def my_function(**kwargs: Dict[str, int]) -> int: \n",
    "    \"\"\"\n",
    "    This function expects a variable number of keyword arguments \n",
    "    where keys are strings and values are integers.\n",
    "    \"\"\"\n",
    "    total = 0\n",
    "    for value in kwargs.values():\n",
    "        total += value\n",
    "    return total"
   ]
  },
  {
   "cell_type": "markdown",
   "metadata": {},
   "source": []
  },
  {
   "cell_type": "code",
   "execution_count": null,
   "metadata": {},
   "outputs": [],
   "source": []
  },
  {
   "cell_type": "code",
   "execution_count": null,
   "metadata": {},
   "outputs": [],
   "source": []
  },
  {
   "cell_type": "markdown",
   "metadata": {},
   "source": [
    "## Decorators\n",
    "\n",
    "- Decorators are functions that take another function as an argument and return a new function that modifies or extends the behavior of the original function.\n",
    "- They are applied to functions using the @decorator_name syntax.  \n",
    "\n",
    "\n",
    "### timer Decorator:\n",
    "\n",
    "The timer decorator measures the execution time of the decorated function. It takes the function to be timed as an argument. It defines a wrapper function that:\n",
    "- Records the start time.\n",
    "- Calls the original function.\n",
    "- Records the end time.\n",
    "- Calculates and prints the execution time.\n",
    "- Returns the result of the original function."
   ]
  },
  {
   "cell_type": "code",
   "execution_count": null,
   "metadata": {},
   "outputs": [],
   "source": [
    "from typing import Callable, Any\n",
    "from numba import jit\n",
    "\n",
    "def timer(func: Callable[[Any], Any]) -> Callable[[Any], Any]:\n",
    "    \"\"\"\n",
    "    A simple timer decorator that measures the execution time of a function.\n",
    "\n",
    "    Args:\n",
    "        func: The function to be timed.\n",
    "\n",
    "    Returns:\n",
    "        A wrapped function that measures and prints the execution time.\n",
    "    \"\"\"\n",
    "    import time\n",
    "\n",
    "    def wrapper(*args, **kwargs):\n",
    "        start_time = time.time()\n",
    "        result = func(*args, **kwargs)\n",
    "        end_time = time.time()\n",
    "        print(f\"Execution time: {end_time - start_time:.4f} seconds\")\n",
    "        return result\n",
    "\n",
    "    return wrapper"
   ]
  },
  {
   "cell_type": "markdown",
   "metadata": {},
   "source": []
  },
  {
   "cell_type": "code",
   "execution_count": null,
   "metadata": {},
   "outputs": [],
   "source": [
    "@timer\n",
    "@jit  # Apply Numba for acceleration\n",
    "def my_function(n: int) -> int:\n",
    "    \"\"\"\n",
    "    Calculates the sum of numbers from 1 to n.\n",
    "    \"\"\"\n",
    "    result = 0\n",
    "    for i in range(1, n + 1):\n",
    "        result += i\n",
    "    return result\n",
    "\n",
    "if __name__ == \"__main__\":\n",
    "    result = my_function(1000000)\n",
    "    print(f\"Result: {result}\")"
   ]
  },
  {
   "cell_type": "markdown",
   "metadata": {},
   "source": [
    "The @jit decorator from the numba library compiles the decorated function into optimized machine code, significantly improving its performance.  \n",
    "Compiles the decorated function for the current CPU architecture.  \n",
    "\n",
    "\n",
    "@njit is Similar to @jit, but enforces stricter type checking and assumes that the input arguments and output will be NumPy arrays.  \n",
    "  \n",
    "@cuda.jit:\n",
    "- Compiles the function for execution on NVIDIA GPUs.\n",
    "- Requires a CUDA-capable GPU.\n",
    "\n",
    "\n",
    "By using Numba effectively, you can significantly accelerate the performance of your Python code, especially for computationally intensive tasks, without the need to rewrite your code entirely in a lower-level language like C or C++."
   ]
  },
  {
   "cell_type": "markdown",
   "metadata": {},
   "source": []
  },
  {
   "cell_type": "markdown",
   "metadata": {},
   "source": []
  }
 ],
 "metadata": {
  "kernelspec": {
   "display_name": "myenv",
   "language": "python",
   "name": "python3"
  },
  "language_info": {
   "codemirror_mode": {
    "name": "ipython",
    "version": 3
   },
   "file_extension": ".py",
   "mimetype": "text/x-python",
   "name": "python",
   "nbconvert_exporter": "python",
   "pygments_lexer": "ipython3",
   "version": "3.12.3"
  }
 },
 "nbformat": 4,
 "nbformat_minor": 2
}
