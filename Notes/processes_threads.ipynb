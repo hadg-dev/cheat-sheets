{
 "cells": [
  {
   "cell_type": "markdown",
   "metadata": {},
   "source": [
    "**Processes**\n",
    "\n",
    "**Definition**: A process is an instance of a running program. It's the basic unit of execution in an operating system.\n",
    "**Key** **Characteristics**:  \n",
    "- Independent: Each process has its own isolated memory space, meaning one process cannot directly access the memory of another.\n",
    "- Resource Allocation: Each process is allocated its own set of resources (CPU time, memory, files).\n",
    "- Overhead: Creating and managing processes can have a higher overhead compared to threads.\n",
    "\n",
    "**Threads**\n",
    "\n",
    "**Definition**: A thread is a smaller, lightweight unit of execution within a process. Multiple threads can exist within a single process.\n",
    "**Key** **Characteristics**:\n",
    "- Shared Resources: Threads within the same process share the same memory space, code, and data.\n",
    "- Lightweight: Creating and managing threads is generally faster and more efficient than creating and managing processes.\n",
    "- Concurrency: Threads allow a process to perform multiple tasks concurrently, making better use of CPU resources.\n",
    "\n",
    "```bash\n",
    "# list processes\n",
    "ps aux\n",
    "\n",
    "# list threads for process with <PID>\n",
    "ps -T -p <PID>\n",
    "```"
   ]
  },
  {
   "cell_type": "markdown",
   "metadata": {},
   "source": [
    "1. **Process Creation**: When you execute a program like main.py, the operating system creates a new process for it. This process has its own memory space, resources, and a single thread of execution.\n",
    "2. **Main Thread:** This initial thread, often called the main thread, starts running the code in your program. It sequentially executes the lines of code in your script.\n",
    "3. **Multithreading** (Optional): If your program explicitly creates additional threads using libraries or language features designed for multithreading (e.g., threading module in Python), then the process will have multiple threads running concurrently.\n",
    "\n",
    "**Key Points**:\n",
    "\n",
    "**Default Behavior**: By default, a process starts with a single main thread."
   ]
  },
  {
   "cell_type": "code",
   "execution_count": null,
   "metadata": {},
   "outputs": [],
   "source": [
    "import threading\n",
    "\n",
    "def my_function():\n",
    "  # Simulate some work\n",
    "  print(\"Doing some work in a separate thread\")\n",
    "  for i in range(5):\n",
    "    print(i)\n",
    "\n",
    "# Main thread\n",
    "print(\"Main thread started\")\n",
    "\n",
    "# Create and start a new thread\n",
    "thread = threading.Thread(target=my_function)\n",
    "thread.start()\n",
    "\n",
    "# Main thread continues to execute\n",
    "print(\"Main thread doing other work\")\n",
    "for i in range(10):\n",
    "  print(i)\n",
    "\n",
    "print(\"Main thread finished\")"
   ]
  },
  {
   "cell_type": "code",
   "execution_count": null,
   "metadata": {},
   "outputs": [],
   "source": [
    "import threading\n",
    "\n",
    "def print_numbers():\n",
    "    \"\"\"\n",
    "    This function prints numbers from 1 to 5.\n",
    "    \"\"\"\n",
    "    for i in range(1, 6):\n",
    "        print(f\"Thread {threading.current_thread().name} - Number: {i}\")\n",
    "\n",
    "if __name__ == \"__main__\":\n",
    "    # Create two threads\n",
    "    thread1 = threading.Thread(target=print_numbers, name=\"Thread 1\")\n",
    "    thread2 = threading.Thread(target=print_numbers, name=\"Thread 2\")\n",
    "\n",
    "    # Start the threads\n",
    "    thread1.start()\n",
    "    thread2.start()\n",
    "\n",
    "    # Wait for both threads to finish before exiting the main thread\n",
    "    thread1.join()\n",
    "    thread2.join()\n",
    "\n",
    "    print(\"Main thread finished.\")"
   ]
  },
  {
   "cell_type": "markdown",
   "metadata": {},
   "source": [
    "**target**: Specifies the function that the thread should execute (print_numbers).  \n",
    "na**me: Assigns a name to the thread for better identification.  \n",
    "\n",
    "\n",
    "**Start the Threads**: The start() method of each thread object is called to begin execution. This causes the print_numbers() function to run concurrently in separate threads.  \n",
    "\n",
    "**Join the Threads:** The join() method ensures that the main thread waits for both child threads to complete their execution before proceeding. This prevents the main thread from finishing before the child threads have finished their work.  \n",
    "\n",
    "\n",
    "if __name__ == \"__main__\" is the **main thread** that execute typical python code.\n",
    "\n",
    "\n",
    "###Due to GIL, in Python, there is no MultiThreading. So use asyncio or multi-processing."
   ]
  }
 ],
 "metadata": {
  "kernelspec": {
   "display_name": "myenv",
   "language": "python",
   "name": "python3"
  },
  "language_info": {
   "name": "python",
   "version": "3.12.3"
  }
 },
 "nbformat": 4,
 "nbformat_minor": 2
}
