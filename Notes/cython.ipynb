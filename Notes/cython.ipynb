{
 "cells": [
  {
   "cell_type": "markdown",
   "metadata": {},
   "source": [
    "1. To create C code snippet and integrate them into Python code, first create either:\n",
    "- a C code file: my_code.c\n",
    "- a C++ code file: my_code.cpp\n",
    "\n",
    "2. Compile C code into a Python extension using setuptools\n"
   ]
  },
  {
   "cell_type": "code",
   "execution_count": null,
   "metadata": {},
   "outputs": [],
   "source": [
    "from setuptools import setup, Extension\n",
    "\n",
    "setup(\n",
    "    name='my_c_module',\n",
    "    version='1.0',\n",
    "    ext_modules=[Extension('my_c_module', sources=['my_code.c'])],\n",
    ")\n"
   ]
  },
  {
   "cell_type": "markdown",
   "metadata": {},
   "source": [
    "Then run :\n",
    "```bash\n",
    "python setup.py build_ext --inplace\n",
    "```\n",
    "\n",
    "The use the C extension in your Python code  \n",
    "\n"
   ]
  },
  {
   "cell_type": "code",
   "execution_count": null,
   "metadata": {},
   "outputs": [],
   "source": [
    "import my_c_module\n",
    "\n",
    "my_c_module.greet(\"World\")"
   ]
  },
  {
   "cell_type": "markdown",
   "metadata": {},
   "source": [
    "## Example of C code into Python for sorting array\n",
    "\n",
    "1. Create a C file (insertion_sort.c)\n",
    "2. Create a setup.py file\n",
    "3. Build the C extension with command: **python setup.py build_ext --inplace**\n",
    "4. Create your Python file (eg use_insertion_sort.py)\n",
    "5. Run it: **python use_insertion_sort.py**"
   ]
  },
  {
   "cell_type": "code",
   "execution_count": null,
   "metadata": {},
   "outputs": [],
   "source": [
    "#include <Python.h>\n",
    "\n",
    "static PyObject* py_insertion_sort(PyObject* self, PyObject* args) {\n",
    "    PyObject* list_obj;\n",
    "    if (!PyArg_ParseTuple(args, \"O\", &list_obj)) {\n",
    "        return NULL;\n",
    "    }\n",
    "\n",
    "    if (!PyList_Check(list_obj)) {\n",
    "        PyErr_SetString(PyExc_TypeError, \"Expected a list\");\n",
    "        return NULL;\n",
    "    }\n",
    "\n",
    "    Py_ssize_t size = PyList_Size(list_obj);\n",
    "\n",
    "    for (Py_ssize_t i = 1; i < size; i++) {\n",
    "        PyObject* key = PyList_GetItem(list_obj, i);\n",
    "        Py_ssize_t j = i - 1;\n",
    "\n",
    "        while (j >= 0 && PyObject_RichCompareBool(key, PyList_GetItem(list_obj, j), Py_LT)) {\n",
    "            PyList_SetItem(list_obj, j + 1, PyList_GetItem(list_obj, j));\n",
    "            j = j - 1;\n",
    "        }\n",
    "\n",
    "        PyList_SetItem(list_obj, j + 1, key);\n",
    "    }\n",
    "\n",
    "    return list_obj;\n",
    "}\n",
    "\n",
    "static PyMethodDef InsertionSortMethods[] = {\n",
    "    {\"insertion_sort\", py_insertion_sort, METH_VARARGS, \"Sort a list using insertion sort.\"},\n",
    "    {NULL, NULL, 0, NULL}\n",
    "};\n",
    "\n",
    "static struct PyModuleDef insertion_sort_module = {\n",
    "    PyModuleDef_HEAD_INIT,\n",
    "    \"insertion_sort\",   /* name of module */\n",
    "    NULL,          /* module documentation, may be NULL */\n",
    "    -1,           /* size of per-interpreter state of the module,\n",
    "                      or -1 if the module keeps state in global variables */\n",
    "    InsertionSortMethods\n",
    "};\n",
    "\n",
    "PyMODINIT_FUNC PyInit_insertion_sort(void) {\n",
    "    return PyModule_Create(&insertion_sort_module);\n",
    "}"
   ]
  },
  {
   "cell_type": "code",
   "execution_count": null,
   "metadata": {},
   "outputs": [],
   "source": [
    "# setup.py file\n",
    "from setuptools import setup, Extension\n",
    "\n",
    "setup(\n",
    "    name='insertion_sort_c',\n",
    "    version='1.0',\n",
    "    ext_modules=[Extension('insertion_sort_c', sources=['insertion_sort.c'])],\n",
    ")"
   ]
  },
  {
   "cell_type": "code",
   "execution_count": null,
   "metadata": {},
   "outputs": [],
   "source": [
    "# use_insertion_sort.py file\n",
    "from insertion_sort_c import insertion_sort\n",
    "\n",
    "my_list = [5, 2, 9, 1, 5, 6]\n",
    "sorted_list = insertion_sort(my_list)\n",
    "\n",
    "print(\"Original list:\", my_list)\n",
    "print(\"Sorted list:\", sorted_list)"
   ]
  },
  {
   "cell_type": "code",
   "execution_count": null,
   "metadata": {},
   "outputs": [],
   "source": []
  },
  {
   "cell_type": "code",
   "execution_count": null,
   "metadata": {},
   "outputs": [],
   "source": []
  },
  {
   "cell_type": "code",
   "execution_count": null,
   "metadata": {},
   "outputs": [],
   "source": []
  },
  {
   "cell_type": "markdown",
   "metadata": {},
   "source": [
    "### To do same stuff with C++, use Pybind11 library"
   ]
  },
  {
   "cell_type": "code",
   "execution_count": null,
   "metadata": {},
   "outputs": [],
   "source": [
    "#include <pybind11/pybind11.h>\n",
    "\n",
    "namespace py = pybind11;\n",
    "\n",
    "int add(int a, int b) {\n",
    "    return a + b;\n",
    "}\n",
    "\n",
    "PYBIND11_MODULE(my_cpp_module, m) {\n",
    "    m.doc() = \"pybind11 example plugin\"; // optional module docstring\n",
    "\n",
    "    m.def(\"add\", &add, \"A function that adds two numbers\"); \n",
    "}"
   ]
  },
  {
   "cell_type": "code",
   "execution_count": null,
   "metadata": {},
   "outputs": [],
   "source": [
    "# setup.py file\n",
    "from setuptools import setup, Extension\n",
    "from pybind11.setup_helpers import Pybind11Extension\n",
    "\n",
    "ext_modules = [\n",
    "    Pybind11Extension(\n",
    "        \"my_cpp_module\",\n",
    "        [\"my_cpp_module.cpp\"],\n",
    "        # ... other arguments\n",
    "    ),\n",
    "]\n",
    "\n",
    "setup(\n",
    "    name=\"my_cpp_module\",\n",
    "    ext_modules=ext_modules,\n",
    "    # ... other setup arguments\n",
    ")"
   ]
  },
  {
   "cell_type": "markdown",
   "metadata": {},
   "source": [
    "Compile and Install: python setup.py build_ext --inplace"
   ]
  },
  {
   "cell_type": "code",
   "execution_count": null,
   "metadata": {},
   "outputs": [],
   "source": [
    "# use in your Python code\n",
    "import my_cpp_module\n",
    "\n",
    "result = my_cpp_module.add(2, 3)\n",
    "print(result)  # Output: 5"
   ]
  },
  {
   "cell_type": "code",
   "execution_count": null,
   "metadata": {},
   "outputs": [],
   "source": []
  }
 ],
 "metadata": {
  "kernelspec": {
   "display_name": "myenv",
   "language": "python",
   "name": "python3"
  },
  "language_info": {
   "codemirror_mode": {
    "name": "ipython",
    "version": 3
   },
   "file_extension": ".py",
   "mimetype": "text/x-python",
   "name": "python",
   "nbconvert_exporter": "python",
   "pygments_lexer": "ipython3",
   "version": "3.12.3"
  }
 },
 "nbformat": 4,
 "nbformat_minor": 2
}
