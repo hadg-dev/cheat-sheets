{
 "cells": [
  {
   "cell_type": "markdown",
   "metadata": {},
   "source": []
  },
  {
   "cell_type": "code",
   "execution_count": 3,
   "metadata": {},
   "outputs": [],
   "source": [
    "import random\n",
    "from typing import Any\n",
    "\n",
    "\n",
    "random.seed(42)"
   ]
  },
  {
   "cell_type": "code",
   "execution_count": 4,
   "metadata": {},
   "outputs": [],
   "source": [
    "def print_memory_address(var: Any) -> None:\n",
    "    print(hex(id(var)))"
   ]
  },
  {
   "cell_type": "code",
   "execution_count": 5,
   "metadata": {},
   "outputs": [
    {
     "name": "stdout",
     "output_type": "stream",
     "text": [
      "0xb36ac8\n"
     ]
    }
   ],
   "source": [
    "my_value = 10  # int\n",
    "print_memory_address(my_value)"
   ]
  },
  {
   "cell_type": "code",
   "execution_count": 7,
   "metadata": {},
   "outputs": [
    {
     "name": "stdout",
     "output_type": "stream",
     "text": [
      "0xb36ec8\n",
      "0xb36ec8\n",
      "0xb36ec8\n"
     ]
    }
   ],
   "source": [
    "my_int1 = 42\n",
    "my_int2 = 42\n",
    "my_int3 = 42\n",
    "\n",
    "print_memory_address(my_int1)\n",
    "print_memory_address(my_int2)\n",
    "print_memory_address(my_int3)"
   ]
  },
  {
   "cell_type": "code",
   "execution_count": 8,
   "metadata": {},
   "outputs": [],
   "source": [
    "my_bool1 = True\n",
    "my_bool2 = True\n",
    "my_bool3 = False\n",
    "my_bool4 = False"
   ]
  },
  {
   "cell_type": "code",
   "execution_count": 9,
   "metadata": {},
   "outputs": [
    {
     "name": "stdout",
     "output_type": "stream",
     "text": [
      "0xa2a360\n",
      "0xa2a360\n",
      "0xa2a380\n",
      "0xa2a380\n"
     ]
    }
   ],
   "source": [
    "print_memory_address(my_bool1)\n",
    "print_memory_address(my_bool2)\n",
    "print_memory_address(my_bool3)\n",
    "print_memory_address(my_bool4)"
   ]
  },
  {
   "cell_type": "code",
   "execution_count": 10,
   "metadata": {},
   "outputs": [
    {
     "name": "stdout",
     "output_type": "stream",
     "text": [
      "0x7f3d1f00c490\n",
      "0x7f3d1c14dcb0\n",
      "0x7f3d0d4e8e10\n"
     ]
    }
   ],
   "source": [
    "my_float1 = 42.0\n",
    "my_float2 = 42.0\n",
    "my_float3 = 42.0\n",
    "\n",
    "print_memory_address(my_float1)\n",
    "print_memory_address(my_float2)\n",
    "print_memory_address(my_float3)"
   ]
  },
  {
   "cell_type": "code",
   "execution_count": 11,
   "metadata": {},
   "outputs": [
    {
     "name": "stdout",
     "output_type": "stream",
     "text": [
      "0xa408a0\n",
      "0xa408a0\n"
     ]
    }
   ],
   "source": [
    "my_none1 = None\n",
    "my_none2 = None\n",
    "\n",
    "print_memory_address(my_none1)\n",
    "print_memory_address(my_none2)"
   ]
  },
  {
   "cell_type": "code",
   "execution_count": 12,
   "metadata": {},
   "outputs": [
    {
     "name": "stdout",
     "output_type": "stream",
     "text": [
      "0x7f3d0d378380\n",
      "0x7f3d0d378380\n"
     ]
    }
   ],
   "source": [
    "my_list1 = [1, 2, 3]\n",
    "my_list2 = my_list1\n",
    "\n",
    "print_memory_address(my_list1)\n",
    "print_memory_address(my_list2)"
   ]
  },
  {
   "cell_type": "markdown",
   "metadata": {},
   "source": []
  },
  {
   "cell_type": "markdown",
   "metadata": {},
   "source": [
    "### Immutable Types\n",
    "\n",
    "**Integers, Floats, Strings, Tuples:** These are immutable. When assigned, a new object is created in memory with its own unique address."
   ]
  },
  {
   "cell_type": "code",
   "execution_count": null,
   "metadata": {},
   "outputs": [],
   "source": [
    "x = 5 \n",
    "y = x \n",
    "print(id(x))  # Address of x\n",
    "print(id(y))  # Address of y \n",
    "# x and y will have the same address (since they refer to the same immutable object)"
   ]
  },
  {
   "cell_type": "markdown",
   "metadata": {},
   "source": [
    "### Mutable types\n",
    "**Lists, Dictionaries, Sets:** These are mutable. When assigned, a variable stores a reference (memory address) to the object in memory."
   ]
  },
  {
   "cell_type": "code",
   "execution_count": null,
   "metadata": {},
   "outputs": [],
   "source": [
    "list1 = [1, 2, 3]\n",
    "list2 = list1 \n",
    "print(id(list1)) \n",
    "print(id(list2)) \n",
    "# list1 and list2 will have the same address (both refer to the same list object)"
   ]
  },
  {
   "cell_type": "markdown",
   "metadata": {},
   "source": [
    "**Copy by Value:**\n",
    "\n",
    "- A new copy of the data is created in memory.\n",
    "- Changes to the new copy do not affect the original.\n",
    "- Typically used with immutable types.\n",
    "\n",
    "\n",
    "**Copy by Reference:**\n",
    "\n",
    "- Only a reference (memory address) to the original object is copied.\n",
    "- Changes to the object through one variable will affect the other variable because they both point to the same object in memory.\n",
    "- Typically used with mutable types (by default)."
   ]
  },
  {
   "cell_type": "markdown",
   "metadata": {},
   "source": [
    "**Shallow Copy:**\n",
    "\n",
    "- Creates a new object but only copies the top-level elements.\n",
    "- If the object contains other mutable objects (like nested lists), the references to those nested objects are shared between the original and the copy.\n",
    "- copy.copy() in the copy module performs a shallow copy.\n",
    "\n",
    "**Use Case:** When you need a separate copy of the top-level container (like a list) but don't need to duplicate all the nested objects within it. This can be more memory-efficient.\n",
    "\n",
    "\n",
    "**Deep Copy:**\n",
    "\n",
    "- Creates a new object and recursively copies all nested objects within it.\n",
    "- Changes to the deep copy will not affect the original object.\n",
    "- copy.deepcopy() in the copy module performs a deep copy.\n",
    "\n",
    "**Use Case**: When you need a completely independent copy of the object, including all nested objects. This ensures that changes to the copy do not affect the original object."
   ]
  },
  {
   "cell_type": "code",
   "execution_count": null,
   "metadata": {},
   "outputs": [],
   "source": [
    "import copy\n",
    "\n",
    "original_list = [1, 2, [3, 4]]  # Nested list\n",
    "shallow_copy = copy.copy(original_list) \n",
    "\n",
    "shallow_copy[0] = 10  # Modifies the shallow copy, doesn't affect original\n",
    "shallow_copy[2].append(5)  # Modifies both original and shallow copy \n",
    "\n",
    "print(\"Original:\", original_list)  # Output: [1, 2, [3, 4, 5]]\n",
    "print(\"Shallow Copy:\", shallow_copy)  # Output: [10, 2, [3, 4, 5]]"
   ]
  },
  {
   "cell_type": "code",
   "execution_count": null,
   "metadata": {},
   "outputs": [],
   "source": [
    "# A shallow copy of a list creates a new list object, but it doesn't create new objects for the elements within the list.\n",
    "import copy\n",
    "\n",
    "list1 = [1, 2, [3, 4]] \n",
    "list2 = list1.copy()  # Shallow copy\n",
    "\n",
    "print(id(list1))  # Memory address of list1\n",
    "print(id(list2))  # Memory address of list2 (different from list1)\n",
    "\n",
    "print(id(list1[2]))  # Memory address of the nested list in list1\n",
    "print(id(list2[2]))  # Memory address of the nested list in list2 (same as list1[2])"
   ]
  },
  {
   "cell_type": "markdown",
   "metadata": {},
   "source": [
    "In this example:\n",
    "\n",
    "- list1 and list2 have different memory addresses (they are different list objects).\n",
    "- However, list1[2] and list2[2] refer to the same nested list in memory.\n",
    "- This is the key characteristic of a shallow copy: it creates a new top-level container, but the elements within that container might still share references with the original list."
   ]
  },
  {
   "cell_type": "code",
   "execution_count": null,
   "metadata": {},
   "outputs": [],
   "source": [
    "import copy\n",
    "\n",
    "original_list = [1, 2, [3, 4]]\n",
    "deep_copy = copy.deepcopy(original_list)\n",
    "\n",
    "deep_copy[0] = 10  # Modifies only the deep copy\n",
    "deep_copy[2].append(5)  # Modifies only the deep copy\n",
    "\n",
    "print(\"Original:\", original_list)  # Output: [1, 2, [3, 4]]\n",
    "print(\"Deep Copy:\", deep_copy)  # Output: [10, 2, [3, 4, 5]]"
   ]
  },
  {
   "cell_type": "code",
   "execution_count": null,
   "metadata": {},
   "outputs": [],
   "source": [
    "# A deep copy of a list in Python creates a new object in memory with distinct memory addresses for both the list itself and all its nested objects.\n",
    "import copy\n",
    "\n",
    "list1 = [1, 2, [3, 4]] \n",
    "list2 = copy.deepcopy(list1) \n",
    "\n",
    "print(id(list1))  # Memory address of list1\n",
    "print(id(list2))  # Memory address of list2 (will be different from list1) \n",
    "\n",
    "print(id(list1[2]))  # Memory address of the nested list in list1\n",
    "print(id(list2[2]))  # Memory address of the nested list in list2 (also different)"
   ]
  },
  {
   "cell_type": "code",
   "execution_count": null,
   "metadata": {},
   "outputs": [],
   "source": [
    "import copy\n",
    "\n",
    "list1 = [1, [2, 3]] \n",
    "list2 = list1  # Shallow copy (both refer to the same list)\n",
    "list3 = list1.copy()  # Shallow copy \n",
    "list4 = copy.deepcopy(list1)  # Deep copy\n",
    "\n",
    "list1[0] = 10  # Changes reflected in list2 and list3 (shallow copies)\n",
    "list1[1][0] = 20  # Changes reflected in list2 and list3 (shallow copies)\n",
    "\n",
    "print(\"list1:\", list1) \n",
    "print(\"list2:\", list2) \n",
    "print(\"list3:\", list3) \n",
    "print(\"list4:\", list4)  # Remains unchanged due to deep copy"
   ]
  },
  {
   "cell_type": "code",
   "execution_count": null,
   "metadata": {},
   "outputs": [],
   "source": [
    "from typing import Any\n",
    "\n",
    "def memory_address(var: Any):\n",
    "    return hex(id(var) % 0xFFFF)\n",
    "\n",
    "def print_dict_info(dct: dict[Any, Any]) -> None:\n",
    "    print(f\"Dict address: {memory_address(dct)}\")\n",
    "    for key in dct:\n",
    "        print(f\"Dict[{key}]: {memory_address(dct[key])}\")\n",
    "    print(\"\\n\")"
   ]
  },
  {
   "cell_type": "markdown",
   "metadata": {},
   "source": [
    "Types for the keys: bool, int, float, str, tuple, None (immutable types)  \n",
    "Types for the values: any type  \n",
    "\n",
    "For each item, the dictionary calculates a hash of the key based on its content.  \n",
    "If the value changes, the hash wil change.  \n",
    "For immutable objects that's not a problem - their content can't change - but mutable objects could.\n"
   ]
  },
  {
   "cell_type": "markdown",
   "metadata": {},
   "source": []
  }
 ],
 "metadata": {
  "kernelspec": {
   "display_name": "myenv",
   "language": "python",
   "name": "python3"
  },
  "language_info": {
   "codemirror_mode": {
    "name": "ipython",
    "version": 3
   },
   "file_extension": ".py",
   "mimetype": "text/x-python",
   "name": "python",
   "nbconvert_exporter": "python",
   "pygments_lexer": "ipython3",
   "version": "3.12.3"
  }
 },
 "nbformat": 4,
 "nbformat_minor": 2
}
